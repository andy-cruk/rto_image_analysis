{
 "cells": [
  {
   "cell_type": "markdown",
   "metadata": {},
   "source": [
    "# Hash histology numbers\n",
    "This code requires a file called patient_core_LUT.xlsx which has a column called 'PatientID'. This file should then be safely deleted after generating the hashed file.\n",
    "Note that the key doesn't let you go from hashed ID back to histology number; you need the securely stored file that is held by the principal investigator, containing both histology number and hashed id."
   ]
  },
  {
   "cell_type": "code",
   "execution_count": 4,
   "metadata": {
    "collapsed": true
   },
   "outputs": [],
   "source": [
    "import hmac, hashlib\n",
    "import pandas as pd\n",
    "import getpass"
   ]
  },
  {
   "cell_type": "markdown",
   "metadata": {},
   "source": [
    "Ask for the hash from user and use it to transform patient IDs in excel file. The hash used for RtO is stored by Peter S., but is fairly useless as it doesn't let you go from hash back to histology number anyway. Reading up on hash-ing, I'm not even sure this key was needed..."
   ]
  },
  {
   "cell_type": "code",
   "execution_count": null,
   "metadata": {
    "collapsed": false
   },
   "outputs": [],
   "source": [
    "key = getpass.getpass('Enter key: ')\n",
    "dat = pd.read_excel('info/patient_core_LUT.xlsx')\n",
    "dat.insert(1, column='patient_key', value=None)\n",
    "for i, row in dat.iterrows():\n",
    "    dat.loc[i, 'patient_key'] = hmac.new(key, row.PatientID, hashlib.sha256).hexdigest()\n",
    "print dat.head()"
   ]
  },
  {
   "cell_type": "markdown",
   "metadata": {},
   "source": [
    "Remove PatientID and save the lookup table"
   ]
  },
  {
   "cell_type": "code",
   "execution_count": 25,
   "metadata": {
    "collapsed": false
   },
   "outputs": [],
   "source": [
    "dat.drop('PatientID', axis=1, inplace=True)\n",
    "dat.to_excel('info/patient_core_LUT_encrypted_tmp.xlsx', index=False)\n",
    "print dat.head()"
   ]
  }
 ],
 "metadata": {
  "kernelspec": {
   "display_name": "Python 2",
   "language": "python",
   "name": "python2"
  },
  "language_info": {
   "codemirror_mode": {
    "name": "ipython",
    "version": 2.0
   },
   "file_extension": ".py",
   "mimetype": "text/x-python",
   "name": "python",
   "nbconvert_exporter": "python",
   "pygments_lexer": "ipython2",
   "version": "2.7.11"
  }
 },
 "nbformat": 4,
 "nbformat_minor": 0
}